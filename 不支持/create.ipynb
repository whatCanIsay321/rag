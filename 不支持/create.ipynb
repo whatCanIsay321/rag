{
 "cells": [
  {
   "cell_type": "code",
   "id": "initial_id",
   "metadata": {
    "collapsed": true,
    "ExecuteTime": {
     "end_time": "2025-08-23T11:53:17.227653Z",
     "start_time": "2025-08-23T11:53:16.543002Z"
    }
   },
   "source": [
    "from pymilvus import MilvusClient\n",
    "\n",
    "client = MilvusClient(\n",
    "    uri=\"http://localhost:19530\",\n",
    "    token=\"root:Milvus\"\n",
    ")\n",
    "\n"
   ],
   "outputs": [],
   "execution_count": 1
  },
  {
   "metadata": {
    "ExecuteTime": {
     "end_time": "2025-08-23T09:31:00.831008Z",
     "start_time": "2025-08-23T09:31:00.818158Z"
    }
   },
   "cell_type": "code",
   "source": [
    "client.create_database(\n",
    "    db_name=\"my_database_2\",\n",
    "    properties={\n",
    "        \"database.replica.number\": 1\n",
    "    }\n",
    ")\n"
   ],
   "id": "369ce90ee34cd1ff",
   "outputs": [],
   "execution_count": 10
  },
  {
   "metadata": {
    "ExecuteTime": {
     "end_time": "2025-08-23T07:37:15.152625Z",
     "start_time": "2025-08-23T07:37:15.143300Z"
    }
   },
   "cell_type": "code",
   "source": "client.describe_database(db_name=\"my_database_2\")",
   "id": "aab2abd4d3f8e949",
   "outputs": [
    {
     "data": {
      "text/plain": [
       "{'name': 'my_database_2', 'database.replica.number': '3'}"
      ]
     },
     "execution_count": 7,
     "metadata": {},
     "output_type": "execute_result"
    }
   ],
   "execution_count": 7
  },
  {
   "metadata": {
    "ExecuteTime": {
     "end_time": "2025-08-23T11:53:41.109896Z",
     "start_time": "2025-08-23T11:53:40.484236Z"
    }
   },
   "cell_type": "code",
   "source": [
    "client.load_collection(\n",
    "    collection_name=\"customized_setup_1\"\n",
    ")\n",
    "\n",
    "res = client.get_load_state(\n",
    "    collection_name=\"customized_setup_1\"\n",
    ")\n",
    "\n",
    "print(res)"
   ],
   "id": "c22b9424449bcdd6",
   "outputs": [
    {
     "name": "stdout",
     "output_type": "stream",
     "text": [
      "{'state': <LoadState: Loaded>}\n"
     ]
    }
   ],
   "execution_count": 3
  },
  {
   "metadata": {
    "ExecuteTime": {
     "end_time": "2025-08-23T12:05:53.989029Z",
     "start_time": "2025-08-23T12:05:53.965140Z"
    }
   },
   "cell_type": "code",
   "source": [
    "client.create_partition(\n",
    "    collection_name=\"customized_setup_1\",\n",
    "    partition_name=\"partitionA\"\n",
    ")"
   ],
   "id": "2b4a8d8677fb6d31",
   "outputs": [],
   "execution_count": 4
  },
  {
   "metadata": {},
   "cell_type": "code",
   "outputs": [],
   "execution_count": null,
   "source": "",
   "id": "fbbe55161c6d2638"
  }
 ],
 "metadata": {
  "kernelspec": {
   "display_name": "Python 3",
   "language": "python",
   "name": "python3"
  },
  "language_info": {
   "codemirror_mode": {
    "name": "ipython",
    "version": 2
   },
   "file_extension": ".py",
   "mimetype": "text/x-python",
   "name": "python",
   "nbconvert_exporter": "python",
   "pygments_lexer": "ipython2",
   "version": "2.7.6"
  }
 },
 "nbformat": 4,
 "nbformat_minor": 5
}
